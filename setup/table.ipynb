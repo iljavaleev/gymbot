{
 "cells": [
  {
   "cell_type": "code",
   "execution_count": 1,
   "metadata": {},
   "outputs": [],
   "source": [
    "import polars as pl"
   ]
  },
  {
   "cell_type": "code",
   "execution_count": null,
   "metadata": {},
   "outputs": [
    {
     "data": {
      "text/html": [
       "<div><style>\n",
       ".dataframe > thead > tr,\n",
       ".dataframe > tbody > tr {\n",
       "  text-align: right;\n",
       "  white-space: pre-wrap;\n",
       "}\n",
       "</style>\n",
       "<small>shape: (5, 2)</small><table border=\"1\" class=\"dataframe\"><thead><tr><th>index</th><th>exercise</th></tr><tr><td>i64</td><td>str</td></tr></thead><tbody><tr><td>1</td><td>&quot;сед&quot;</td></tr><tr><td>2</td><td>&quot;квадрицепс тренажер&quot;</td></tr><tr><td>3</td><td>&quot;жим лежа широким хватом&quot;</td></tr><tr><td>4</td><td>&quot;жим лежа широким хватом 2сек&quot;</td></tr><tr><td>5</td><td>&quot;жим гантелей лежа&quot;</td></tr></tbody></table></div>"
      ],
      "text/plain": [
       "shape: (5, 2)\n",
       "┌───────┬──────────────────────────────┐\n",
       "│ index ┆ exercise                     │\n",
       "│ ---   ┆ ---                          │\n",
       "│ i64   ┆ str                          │\n",
       "╞═══════╪══════════════════════════════╡\n",
       "│ 1     ┆ сед                          │\n",
       "│ 2     ┆ квадрицепс тренажер          │\n",
       "│ 3     ┆ жим лежа широким хватом      │\n",
       "│ 4     ┆ жим лежа широким хватом 2сек │\n",
       "│ 5     ┆ жим гантелей лежа            │\n",
       "└───────┴──────────────────────────────┘"
      ]
     },
     "execution_count": 4,
     "metadata": {},
     "output_type": "execute_result"
    }
   ],
   "source": [
    "path1 = \"\"\n",
    "path2 = \"\"\n",
    "df1 = pl.read_csv(path1)\n",
    "df1.head()"
   ]
  },
  {
   "cell_type": "code",
   "execution_count": 5,
   "metadata": {},
   "outputs": [
    {
     "data": {
      "text/html": [
       "<div><style>\n",
       ".dataframe > thead > tr,\n",
       ".dataframe > tbody > tr {\n",
       "  text-align: right;\n",
       "  white-space: pre-wrap;\n",
       "}\n",
       "</style>\n",
       "<small>shape: (5, 3)</small><table border=\"1\" class=\"dataframe\"><thead><tr><th>exercise</th><th>reps</th><th>date</th></tr><tr><td>i64</td><td>str</td><td>date</td></tr></thead><tbody><tr><td>1</td><td>&quot;6&quot;</td><td>2019-09-30</td></tr><tr><td>2</td><td>&quot;8&quot;</td><td>2019-09-30</td></tr><tr><td>3</td><td>&quot;5&quot;</td><td>2019-09-30</td></tr><tr><td>4</td><td>&quot;2&quot;</td><td>2019-09-30</td></tr><tr><td>5</td><td>&quot;6&quot;</td><td>2019-09-30</td></tr></tbody></table></div>"
      ],
      "text/plain": [
       "shape: (5, 3)\n",
       "┌──────────┬──────┬────────────┐\n",
       "│ exercise ┆ reps ┆ date       │\n",
       "│ ---      ┆ ---  ┆ ---        │\n",
       "│ i64      ┆ str  ┆ date       │\n",
       "╞══════════╪══════╪════════════╡\n",
       "│ 1        ┆ 6    ┆ 2019-09-30 │\n",
       "│ 2        ┆ 8    ┆ 2019-09-30 │\n",
       "│ 3        ┆ 5    ┆ 2019-09-30 │\n",
       "│ 4        ┆ 2    ┆ 2019-09-30 │\n",
       "│ 5        ┆ 6    ┆ 2019-09-30 │\n",
       "└──────────┴──────┴────────────┘"
      ]
     },
     "execution_count": 5,
     "metadata": {},
     "output_type": "execute_result"
    }
   ],
   "source": [
    "df2 = pl.read_csv(path2, try_parse_dates=True, schema={\"exercise\":pl.Int64, \"reps\":pl.String, \"date\": pl.Date}, ignore_errors=True, truncate_ragged_lines=True)\n",
    "df2.head()"
   ]
  },
  {
   "cell_type": "code",
   "execution_count": 6,
   "metadata": {},
   "outputs": [],
   "source": [
    "df3 = df1.join(left_on=\"index\", right_on=\"exercise\", other=df2).select(\"exercise\",\"reps\", \"date\")"
   ]
  },
  {
   "cell_type": "code",
   "execution_count": 7,
   "metadata": {},
   "outputs": [
    {
     "data": {
      "text/html": [
       "<div><style>\n",
       ".dataframe > thead > tr,\n",
       ".dataframe > tbody > tr {\n",
       "  text-align: right;\n",
       "  white-space: pre-wrap;\n",
       "}\n",
       "</style>\n",
       "<small>shape: (5, 3)</small><table border=\"1\" class=\"dataframe\"><thead><tr><th>date</th><th>prev</th><th>next</th></tr><tr><td>date</td><td>date</td><td>date</td></tr></thead><tbody><tr><td>2019-09-30</td><td>null</td><td>2019-10-01</td></tr><tr><td>2019-10-01</td><td>2019-09-30</td><td>2019-10-02</td></tr><tr><td>2019-10-02</td><td>2019-10-01</td><td>2019-10-04</td></tr><tr><td>2019-10-04</td><td>2019-10-02</td><td>2019-10-07</td></tr><tr><td>2019-10-07</td><td>2019-10-04</td><td>2019-10-08</td></tr></tbody></table></div>"
      ],
      "text/plain": [
       "shape: (5, 3)\n",
       "┌────────────┬────────────┬────────────┐\n",
       "│ date       ┆ prev       ┆ next       │\n",
       "│ ---        ┆ ---        ┆ ---        │\n",
       "│ date       ┆ date       ┆ date       │\n",
       "╞════════════╪════════════╪════════════╡\n",
       "│ 2019-09-30 ┆ null       ┆ 2019-10-01 │\n",
       "│ 2019-10-01 ┆ 2019-09-30 ┆ 2019-10-02 │\n",
       "│ 2019-10-02 ┆ 2019-10-01 ┆ 2019-10-04 │\n",
       "│ 2019-10-04 ┆ 2019-10-02 ┆ 2019-10-07 │\n",
       "│ 2019-10-07 ┆ 2019-10-04 ┆ 2019-10-08 │\n",
       "└────────────┴────────────┴────────────┘"
      ]
     },
     "execution_count": 7,
     "metadata": {},
     "output_type": "execute_result"
    }
   ],
   "source": [
    "df4 = df3.select(\"date\").unique().sort(by=\"date\").with_columns(\n",
    "    pl.col(\"date\").shift().alias(\"prev\"),\n",
    "    pl.col(\"date\").shift(-1).alias(\"next\")\n",
    ")\n",
    "df4.head()"
   ]
  },
  {
   "cell_type": "code",
   "execution_count": 8,
   "metadata": {},
   "outputs": [
    {
     "data": {
      "text/html": [
       "<div><style>\n",
       ".dataframe > thead > tr,\n",
       ".dataframe > tbody > tr {\n",
       "  text-align: right;\n",
       "  white-space: pre-wrap;\n",
       "}\n",
       "</style>\n",
       "<small>shape: (1_736, 6)</small><table border=\"1\" class=\"dataframe\"><thead><tr><th>index</th><th>exercise</th><th>reps</th><th>date</th><th>prev</th><th>next</th></tr><tr><td>u32</td><td>str</td><td>str</td><td>date</td><td>date</td><td>date</td></tr></thead><tbody><tr><td>0</td><td>&quot;сед&quot;</td><td>&quot;6&quot;</td><td>2019-09-30</td><td>null</td><td>2019-10-01</td></tr><tr><td>1</td><td>&quot;квадрицепс тренажер&quot;</td><td>&quot;8&quot;</td><td>2019-09-30</td><td>null</td><td>2019-10-01</td></tr><tr><td>2</td><td>&quot;жим лежа широким хватом&quot;</td><td>&quot;5&quot;</td><td>2019-09-30</td><td>null</td><td>2019-10-01</td></tr><tr><td>3</td><td>&quot;жим лежа широким хватом 2сек&quot;</td><td>&quot;2&quot;</td><td>2019-09-30</td><td>null</td><td>2019-10-01</td></tr><tr><td>4</td><td>&quot;жим гантелей лежа&quot;</td><td>&quot;6&quot;</td><td>2019-09-30</td><td>null</td><td>2019-10-01</td></tr><tr><td>&hellip;</td><td>&hellip;</td><td>&hellip;</td><td>&hellip;</td><td>&hellip;</td><td>&hellip;</td></tr><tr><td>1731</td><td>&quot;тяга сумо вис&quot;</td><td>&quot;4&quot;</td><td>2021-05-21</td><td>2021-05-19</td><td>null</td></tr><tr><td>1732</td><td>&quot;жим лежа узким хватом&quot;</td><td>&quot;3&quot;</td><td>2021-05-21</td><td>2021-05-19</td><td>null</td></tr><tr><td>1733</td><td>&quot;жим лежа узким хватом 2 сек&quot;</td><td>&quot;1&quot;</td><td>2021-05-21</td><td>2021-05-19</td><td>null</td></tr><tr><td>1734</td><td>&quot;трицепс гантеля&quot;</td><td>&quot;4&quot;</td><td>2021-05-21</td><td>2021-05-19</td><td>null</td></tr><tr><td>1735</td><td>&quot;пресс&quot;</td><td>null</td><td>2021-05-21</td><td>2021-05-19</td><td>null</td></tr></tbody></table></div>"
      ],
      "text/plain": [
       "shape: (1_736, 6)\n",
       "┌───────┬──────────────────────────────┬──────┬────────────┬────────────┬────────────┐\n",
       "│ index ┆ exercise                     ┆ reps ┆ date       ┆ prev       ┆ next       │\n",
       "│ ---   ┆ ---                          ┆ ---  ┆ ---        ┆ ---        ┆ ---        │\n",
       "│ u32   ┆ str                          ┆ str  ┆ date       ┆ date       ┆ date       │\n",
       "╞═══════╪══════════════════════════════╪══════╪════════════╪════════════╪════════════╡\n",
       "│ 0     ┆ сед                          ┆ 6    ┆ 2019-09-30 ┆ null       ┆ 2019-10-01 │\n",
       "│ 1     ┆ квадрицепс тренажер          ┆ 8    ┆ 2019-09-30 ┆ null       ┆ 2019-10-01 │\n",
       "│ 2     ┆ жим лежа широким хватом      ┆ 5    ┆ 2019-09-30 ┆ null       ┆ 2019-10-01 │\n",
       "│ 3     ┆ жим лежа широким хватом 2сек ┆ 2    ┆ 2019-09-30 ┆ null       ┆ 2019-10-01 │\n",
       "│ 4     ┆ жим гантелей лежа            ┆ 6    ┆ 2019-09-30 ┆ null       ┆ 2019-10-01 │\n",
       "│ …     ┆ …                            ┆ …    ┆ …          ┆ …          ┆ …          │\n",
       "│ 1731  ┆ тяга сумо вис                ┆ 4    ┆ 2021-05-21 ┆ 2021-05-19 ┆ null       │\n",
       "│ 1732  ┆ жим лежа узким хватом        ┆ 3    ┆ 2021-05-21 ┆ 2021-05-19 ┆ null       │\n",
       "│ 1733  ┆ жим лежа узким хватом 2 сек  ┆ 1    ┆ 2021-05-21 ┆ 2021-05-19 ┆ null       │\n",
       "│ 1734  ┆ трицепс гантеля              ┆ 4    ┆ 2021-05-21 ┆ 2021-05-19 ┆ null       │\n",
       "│ 1735  ┆ пресс                        ┆ null ┆ 2021-05-21 ┆ 2021-05-19 ┆ null       │\n",
       "└───────┴──────────────────────────────┴──────┴────────────┴────────────┴────────────┘"
      ]
     },
     "execution_count": 8,
     "metadata": {},
     "output_type": "execute_result"
    }
   ],
   "source": [
    "df5 = df3.join(on=\"date\", other=df4).with_row_index()\n",
    "df5"
   ]
  },
  {
   "cell_type": "code",
   "execution_count": 11,
   "metadata": {},
   "outputs": [],
   "source": [
    "df5.write_csv(file=\"table.csv\")"
   ]
  },
  {
   "cell_type": "code",
   "execution_count": 12,
   "metadata": {},
   "outputs": [
    {
     "data": {
      "text/html": [
       "<div><style>\n",
       ".dataframe > thead > tr,\n",
       ".dataframe > tbody > tr {\n",
       "  text-align: right;\n",
       "  white-space: pre-wrap;\n",
       "}\n",
       "</style>\n",
       "<small>shape: (1_736, 6)</small><table border=\"1\" class=\"dataframe\"><thead><tr><th>index</th><th>exercise</th><th>reps</th><th>date</th><th>prev</th><th>next</th></tr><tr><td>u32</td><td>str</td><td>str</td><td>date</td><td>date</td><td>date</td></tr></thead><tbody><tr><td>0</td><td>&quot;сед&quot;</td><td>&quot;6&quot;</td><td>2019-09-30</td><td>null</td><td>2019-10-01</td></tr><tr><td>1</td><td>&quot;квадрицепс тренажер&quot;</td><td>&quot;8&quot;</td><td>2019-09-30</td><td>null</td><td>2019-10-01</td></tr><tr><td>2</td><td>&quot;жим лежа широким хватом&quot;</td><td>&quot;5&quot;</td><td>2019-09-30</td><td>null</td><td>2019-10-01</td></tr><tr><td>3</td><td>&quot;жим лежа широким хватом 2сек&quot;</td><td>&quot;2&quot;</td><td>2019-09-30</td><td>null</td><td>2019-10-01</td></tr><tr><td>4</td><td>&quot;жим гантелей лежа&quot;</td><td>&quot;6&quot;</td><td>2019-09-30</td><td>null</td><td>2019-10-01</td></tr><tr><td>&hellip;</td><td>&hellip;</td><td>&hellip;</td><td>&hellip;</td><td>&hellip;</td><td>&hellip;</td></tr><tr><td>1731</td><td>&quot;тяга сумо вис&quot;</td><td>&quot;4&quot;</td><td>2021-05-21</td><td>2021-05-19</td><td>null</td></tr><tr><td>1732</td><td>&quot;жим лежа узким хватом&quot;</td><td>&quot;3&quot;</td><td>2021-05-21</td><td>2021-05-19</td><td>null</td></tr><tr><td>1733</td><td>&quot;жим лежа узким хватом 2 сек&quot;</td><td>&quot;1&quot;</td><td>2021-05-21</td><td>2021-05-19</td><td>null</td></tr><tr><td>1734</td><td>&quot;трицепс гантеля&quot;</td><td>&quot;4&quot;</td><td>2021-05-21</td><td>2021-05-19</td><td>null</td></tr><tr><td>1735</td><td>&quot;пресс&quot;</td><td>null</td><td>2021-05-21</td><td>2021-05-19</td><td>null</td></tr></tbody></table></div>"
      ],
      "text/plain": [
       "shape: (1_736, 6)\n",
       "┌───────┬──────────────────────────────┬──────┬────────────┬────────────┬────────────┐\n",
       "│ index ┆ exercise                     ┆ reps ┆ date       ┆ prev       ┆ next       │\n",
       "│ ---   ┆ ---                          ┆ ---  ┆ ---        ┆ ---        ┆ ---        │\n",
       "│ u32   ┆ str                          ┆ str  ┆ date       ┆ date       ┆ date       │\n",
       "╞═══════╪══════════════════════════════╪══════╪════════════╪════════════╪════════════╡\n",
       "│ 0     ┆ сед                          ┆ 6    ┆ 2019-09-30 ┆ null       ┆ 2019-10-01 │\n",
       "│ 1     ┆ квадрицепс тренажер          ┆ 8    ┆ 2019-09-30 ┆ null       ┆ 2019-10-01 │\n",
       "│ 2     ┆ жим лежа широким хватом      ┆ 5    ┆ 2019-09-30 ┆ null       ┆ 2019-10-01 │\n",
       "│ 3     ┆ жим лежа широким хватом 2сек ┆ 2    ┆ 2019-09-30 ┆ null       ┆ 2019-10-01 │\n",
       "│ 4     ┆ жим гантелей лежа            ┆ 6    ┆ 2019-09-30 ┆ null       ┆ 2019-10-01 │\n",
       "│ …     ┆ …                            ┆ …    ┆ …          ┆ …          ┆ …          │\n",
       "│ 1731  ┆ тяга сумо вис                ┆ 4    ┆ 2021-05-21 ┆ 2021-05-19 ┆ null       │\n",
       "│ 1732  ┆ жим лежа узким хватом        ┆ 3    ┆ 2021-05-21 ┆ 2021-05-19 ┆ null       │\n",
       "│ 1733  ┆ жим лежа узким хватом 2 сек  ┆ 1    ┆ 2021-05-21 ┆ 2021-05-19 ┆ null       │\n",
       "│ 1734  ┆ трицепс гантеля              ┆ 4    ┆ 2021-05-21 ┆ 2021-05-19 ┆ null       │\n",
       "│ 1735  ┆ пресс                        ┆ null ┆ 2021-05-21 ┆ 2021-05-19 ┆ null       │\n",
       "└───────┴──────────────────────────────┴──────┴────────────┴────────────┴────────────┘"
      ]
     },
     "execution_count": 12,
     "metadata": {},
     "output_type": "execute_result"
    }
   ],
   "source": [
    "df5"
   ]
  },
  {
   "cell_type": "code",
   "execution_count": null,
   "metadata": {},
   "outputs": [],
   "source": []
  }
 ],
 "metadata": {
  "kernelspec": {
   "display_name": "Python 3",
   "language": "python",
   "name": "python3"
  },
  "language_info": {
   "codemirror_mode": {
    "name": "ipython",
    "version": 3
   },
   "file_extension": ".py",
   "mimetype": "text/x-python",
   "name": "python",
   "nbconvert_exporter": "python",
   "pygments_lexer": "ipython3",
   "version": "3.12.8"
  }
 },
 "nbformat": 4,
 "nbformat_minor": 2
}
